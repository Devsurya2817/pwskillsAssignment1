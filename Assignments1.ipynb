{
 "cells": [
  {
   "cell_type": "markdown",
   "id": "82ee477f-7426-492b-8ce3-ad8501fc780d",
   "metadata": {},
   "source": [
    "Q1. Create one variable containing following type of data:\n",
    "(i) string\n",
    "(ii) list\n",
    "(iii) float\n",
    "(iv) tuple"
   ]
  },
  {
   "cell_type": "code",
   "execution_count": 1,
   "id": "57990c13-0763-487c-b4c4-716ba6b20289",
   "metadata": {},
   "outputs": [],
   "source": [
    "a = \" KERALA\"\n",
    "\n",
    "l = [2,3,4,5,\"pwskills\",\"INDIA\"]\n",
    "\n",
    "f = 12.567\n",
    "\n",
    "t = (1,4,5,67,\"hello world\")\n"
   ]
  },
  {
   "cell_type": "code",
   "execution_count": 2,
   "id": "7307c94c-12a4-4f2d-ab67-d5af62206611",
   "metadata": {},
   "outputs": [
    {
     "data": {
      "text/plain": [
       "str"
      ]
     },
     "execution_count": 2,
     "metadata": {},
     "output_type": "execute_result"
    }
   ],
   "source": [
    "type(a)"
   ]
  },
  {
   "cell_type": "code",
   "execution_count": 3,
   "id": "37acfbbf-91ee-4f6d-9144-be55e4dc28b0",
   "metadata": {},
   "outputs": [
    {
     "data": {
      "text/plain": [
       "list"
      ]
     },
     "execution_count": 3,
     "metadata": {},
     "output_type": "execute_result"
    }
   ],
   "source": [
    "type(l)"
   ]
  },
  {
   "cell_type": "code",
   "execution_count": 4,
   "id": "93ff502b-e441-46d1-811e-186e065f1343",
   "metadata": {},
   "outputs": [
    {
     "data": {
      "text/plain": [
       "float"
      ]
     },
     "execution_count": 4,
     "metadata": {},
     "output_type": "execute_result"
    }
   ],
   "source": [
    "type(f)"
   ]
  },
  {
   "cell_type": "code",
   "execution_count": 5,
   "id": "1a271e3a-7651-4c4b-8dec-e9e9eafc2761",
   "metadata": {},
   "outputs": [
    {
     "data": {
      "text/plain": [
       "tuple"
      ]
     },
     "execution_count": 5,
     "metadata": {},
     "output_type": "execute_result"
    }
   ],
   "source": [
    "type(t)\n"
   ]
  },
  {
   "cell_type": "markdown",
   "id": "5440b044-63ff-4b8d-8eff-a9ccebb40e4b",
   "metadata": {},
   "source": [
    "Q2. Given are some following variables containing data:"
   ]
  },
  {
   "cell_type": "code",
   "execution_count": 6,
   "id": "561bdb55-336e-42ed-8af7-71c64beb78fa",
   "metadata": {},
   "outputs": [
    {
     "data": {
      "text/plain": [
       "str"
      ]
     },
     "execution_count": 6,
     "metadata": {},
     "output_type": "execute_result"
    }
   ],
   "source": [
    "var1=''\n",
    "type(var1)\n"
   ]
  },
  {
   "cell_type": "code",
   "execution_count": 7,
   "id": "8379794f-32cf-496e-88a6-718767d851cd",
   "metadata": {},
   "outputs": [
    {
     "data": {
      "text/plain": [
       "str"
      ]
     },
     "execution_count": 7,
     "metadata": {},
     "output_type": "execute_result"
    }
   ],
   "source": [
    "var2 ='[ DS , ML , Python]'\n",
    "type(var2)"
   ]
  },
  {
   "cell_type": "code",
   "execution_count": 8,
   "id": "1c997643-20e1-4776-ae03-500af568e14d",
   "metadata": {},
   "outputs": [
    {
     "data": {
      "text/plain": [
       "list"
      ]
     },
     "execution_count": 8,
     "metadata": {},
     "output_type": "execute_result"
    }
   ],
   "source": [
    "var3 =[ 'DS' ,' ML' , 'Python']\n",
    "type(var3)"
   ]
  },
  {
   "cell_type": "code",
   "execution_count": 9,
   "id": "c0f8e34d-0bb6-44c0-b4ae-6c95c4290dcf",
   "metadata": {},
   "outputs": [
    {
     "data": {
      "text/plain": [
       "float"
      ]
     },
     "execution_count": 9,
     "metadata": {},
     "output_type": "execute_result"
    }
   ],
   "source": [
    "var4=1.\n",
    "type(var4)"
   ]
  },
  {
   "cell_type": "markdown",
   "id": "ac4fb6d5-e0e7-4b3b-a95f-e0109fef9ca6",
   "metadata": {},
   "source": [
    "Q3. Explain the use of the following operators using an example:\n",
    "(i) /\n",
    "(ii) %\n",
    "(iii) //\n",
    "(iv) **"
   ]
  },
  {
   "cell_type": "markdown",
   "id": "88960348-742f-4404-bd70-e7234c8f0fe8",
   "metadata": {},
   "source": [
    "1) float division operator(/): this operator gives more  precise division result  "
   ]
  },
  {
   "cell_type": "code",
   "execution_count": 10,
   "id": "a596ee02-7d6c-40e4-83f6-456d0e6c8d62",
   "metadata": {},
   "outputs": [
    {
     "data": {
      "text/plain": [
       "2.0"
      ]
     },
     "execution_count": 10,
     "metadata": {},
     "output_type": "execute_result"
    }
   ],
   "source": [
    "20/10"
   ]
  },
  {
   "cell_type": "markdown",
   "id": "51498644-4e20-4561-800d-55e156eda287",
   "metadata": {},
   "source": [
    "2) remainder operator (%): gives the remainder  after the division of numbers"
   ]
  },
  {
   "cell_type": "code",
   "execution_count": 11,
   "id": "52b2e8b9-4df6-41ca-8dcf-950bab800eda",
   "metadata": {},
   "outputs": [
    {
     "data": {
      "text/plain": [
       "5"
      ]
     },
     "execution_count": 11,
     "metadata": {},
     "output_type": "execute_result"
    }
   ],
   "source": [
    "35%6"
   ]
  },
  {
   "cell_type": "markdown",
   "id": "f1084680-5acb-4ab7-8d11-28330d39f2d2",
   "metadata": {},
   "source": [
    "3)floor division operator (//): after division of two numbers the result will be rounded of  to the nearest integer "
   ]
  },
  {
   "cell_type": "code",
   "execution_count": 12,
   "id": "4f0af820-1c6a-4559-affe-3bc14122a3d5",
   "metadata": {},
   "outputs": [
    {
     "data": {
      "text/plain": [
       "5"
      ]
     },
     "execution_count": 12,
     "metadata": {},
     "output_type": "execute_result"
    }
   ],
   "source": [
    "35//6"
   ]
  },
  {
   "cell_type": "markdown",
   "id": "dba42424-010c-4add-9bf6-84ea9ee766d8",
   "metadata": {},
   "source": [
    "4) double asterisks operation(**): it is an exponential operator"
   ]
  },
  {
   "cell_type": "code",
   "execution_count": 13,
   "id": "fd012a2f-b01f-494d-88a1-f8d2407c1d8c",
   "metadata": {},
   "outputs": [
    {
     "data": {
      "text/plain": [
       "25"
      ]
     },
     "execution_count": 13,
     "metadata": {},
     "output_type": "execute_result"
    }
   ],
   "source": [
    "5**2"
   ]
  },
  {
   "cell_type": "markdown",
   "id": "eb7416ac-d18d-431c-b6de-3699353d831d",
   "metadata": {},
   "source": [
    "Q4)Create a list of length 10 of your choice containing multiple types of data. Using for loop print the\n",
    "element and its data type."
   ]
  },
  {
   "cell_type": "code",
   "execution_count": 14,
   "id": "809153ec-e068-4af8-b46c-7c67e3cda210",
   "metadata": {},
   "outputs": [
    {
     "name": "stdout",
     "output_type": "stream",
     "text": [
      "12 is of the type <class 'int'>\n",
      "23.89 is of the type <class 'float'>\n",
      "pwskills is of the type <class 'str'>\n",
      "(23, 45, 69) is of the type <class 'tuple'>\n",
      "True is of the type <class 'bool'>\n",
      "cricket is of the type <class 'str'>\n",
      "False is of the type <class 'bool'>\n",
      "69.96 is of the type <class 'float'>\n",
      "42 is of the type <class 'int'>\n",
      "('ronaldo', 'messi', 'neymar') is of the type <class 'tuple'>\n"
     ]
    }
   ],
   "source": [
    "l=[12,23.890,\"pwskills\",(23,45,69),True,\"cricket\",False,69.96,42,(\"ronaldo\",\"messi\",\"neymar\")]\n",
    "for i in l :\n",
    "       print(i,\"is of the type\",type(i))\n",
    "    "
   ]
  },
  {
   "cell_type": "markdown",
   "id": "1a4f3e62-f87e-43d6-9f0f-1cf969d09803",
   "metadata": {},
   "source": [
    "Q6. Create a list containing 25 int type data. Using for loop and if-else condition print if the element is\n",
    "divisible by 3 or not."
   ]
  },
  {
   "cell_type": "code",
   "execution_count": 15,
   "id": "ea1bd579-6460-4504-b42b-9d2bce2ed944",
   "metadata": {},
   "outputs": [
    {
     "name": "stdout",
     "output_type": "stream",
     "text": [
      "0  is divisible by 3\n",
      "1 not divisible by 3\n",
      "2 not divisible by 3\n",
      "3  is divisible by 3\n",
      "4 not divisible by 3\n",
      "5 not divisible by 3\n",
      "6  is divisible by 3\n",
      "7 not divisible by 3\n",
      "8 not divisible by 3\n",
      "9  is divisible by 3\n",
      "10 not divisible by 3\n",
      "11 not divisible by 3\n",
      "12  is divisible by 3\n",
      "13 not divisible by 3\n",
      "14 not divisible by 3\n",
      "15  is divisible by 3\n",
      "16 not divisible by 3\n",
      "17 not divisible by 3\n",
      "18  is divisible by 3\n",
      "19 not divisible by 3\n",
      "20 not divisible by 3\n",
      "21  is divisible by 3\n",
      "22 not divisible by 3\n",
      "23 not divisible by 3\n",
      "24  is divisible by 3\n"
     ]
    }
   ],
   "source": [
    "num=list(range(25))\n",
    "for i in num:\n",
    "    if i%3==0:\n",
    "         print(i,\" is divisible by 3\")\n",
    "    else :\n",
    "         print(i,\"not divisible by 3\")\n",
    "    "
   ]
  },
  {
   "cell_type": "markdown",
   "id": "0d71fd1a-56db-4f77-888e-24c83ff55072",
   "metadata": {},
   "source": [
    "Q7. What do you understand about mutable and immutable data types? Give examples for both showing\n",
    "this property."
   ]
  },
  {
   "cell_type": "markdown",
   "id": "e2802d9a-9971-4b16-b1aa-60f7abf2b4fd",
   "metadata": {},
   "source": [
    "Ans)\n",
    "Mutable datatypes can modified or removed. example:list\n",
    ".Immutable datatypes cannot be modified or removed. example: string , tuple"
   ]
  },
  {
   "cell_type": "code",
   "execution_count": null,
   "id": "2cc77044-e82a-4f7d-9824-860eff8369c9",
   "metadata": {},
   "outputs": [],
   "source": []
  }
 ],
 "metadata": {
  "kernelspec": {
   "display_name": "Python 3 (ipykernel)",
   "language": "python",
   "name": "python3"
  },
  "language_info": {
   "codemirror_mode": {
    "name": "ipython",
    "version": 3
   },
   "file_extension": ".py",
   "mimetype": "text/x-python",
   "name": "python",
   "nbconvert_exporter": "python",
   "pygments_lexer": "ipython3",
   "version": "3.10.8"
  }
 },
 "nbformat": 4,
 "nbformat_minor": 5
}
